{
 "cells": [
  {
   "cell_type": "code",
   "execution_count": 1,
   "id": "67bbf54a",
   "metadata": {},
   "outputs": [],
   "source": [
    "import pandas as pd\n",
    "import joblib\n",
    "from sklearn.metrics import (\n",
    "    accuracy_score,\n",
    "    roc_auc_score,\n",
    "    confusion_matrix,\n",
    "    classification_report\n",
    ")\n",
    "import numpy as np\n",
    "import shap"
   ]
  },
  {
   "cell_type": "code",
   "execution_count": 2,
   "id": "3d8a3ba6",
   "metadata": {},
   "outputs": [],
   "source": [
    "# Testdata laden\n",
    "X_test_scaled = pd.read_pickle('X_ontest_scaled.pkl')\n",
    "y_test        = pd.read_pickle('y_ontest.pkl')\n",
    "\n",
    "# Opgeslagen model en drempel inladen\n",
    "lr            = joblib.load('nfinal_logreg_model.pkl')\n",
    "opt_threshold = joblib.load('nfinal_logreg_threshold.pkl')\n"
   ]
  },
  {
   "cell_type": "code",
   "execution_count": 3,
   "id": "b2f9db74",
   "metadata": {},
   "outputs": [
    {
     "name": "stdout",
     "output_type": "stream",
     "text": [
      "Accuracy:  0.864\n",
      "ROC AUC:   0.936\n",
      "\n",
      "Confusion Matrix:\n",
      "TN: 33  FP: 5\n",
      "FN: 3  TP: 18\n",
      "\n",
      "Classification Report:\n",
      "              precision    recall  f1-score   support\n",
      "\n",
      "    Geen HVZ       0.92      0.87      0.89        38\n",
      "         HVZ       0.78      0.86      0.82        21\n",
      "\n",
      "    accuracy                           0.86        59\n",
      "   macro avg       0.85      0.86      0.86        59\n",
      "weighted avg       0.87      0.86      0.87        59\n",
      "\n"
     ]
    }
   ],
   "source": [
    "probs       = lr.predict_proba(X_test_scaled)[:,1]\n",
    "y_pred_opt  = (probs >= opt_threshold).astype(int)\n",
    "\n",
    "acc    = accuracy_score(y_test, y_pred_opt)\n",
    "auc    = roc_auc_score(y_test, probs)\n",
    "cm     = confusion_matrix(y_test, y_pred_opt)\n",
    "report = classification_report(\n",
    "    y_test, y_pred_opt,\n",
    "    target_names=['Geen HVZ','HVZ']\n",
    ")\n",
    "\n",
    "print(f\"Accuracy:  {acc:.3f}\")\n",
    "print(f\"ROC AUC:   {auc:.3f}\")\n",
    "print(\"\\nConfusion Matrix:\")\n",
    "print(f\"TN: {cm[0,0]}  FP: {cm[0,1]}\")\n",
    "print(f\"FN: {cm[1,0]}  TP: {cm[1,1]}\")\n",
    "print(\"\\nClassification Report:\")\n",
    "print(report)\n"
   ]
  },
  {
   "cell_type": "markdown",
   "id": "8a4a162e",
   "metadata": {},
   "source": [
    "### Testen op 1 deelnemer"
   ]
  },
  {
   "cell_type": "code",
   "execution_count": 4,
   "id": "c7567e47",
   "metadata": {},
   "outputs": [
    {
     "name": "stdout",
     "output_type": "stream",
     "text": [
      "True label:             0\n",
      "Predicted probability: 0.550\n",
      "Predicted class (thr=0.672): 0\n"
     ]
    }
   ],
   "source": [
    "lr            = joblib.load('nfinal_logreg_model.pkl')\n",
    "opt_threshold = joblib.load('nfinal_logreg_threshold.pkl')\n",
    "scaler        = joblib.load('standard_scaler.pkl')\n",
    "\n",
    "\n",
    "X_test_scaled = pd.read_pickle('X_ontest_scaled.pkl')  # moet alle preprocessing al hebben\n",
    "y_test        = pd.read_pickle('y_ontest.pkl')\n",
    "\n",
    "idx    = 0\n",
    "x_row  = X_test_scaled.iloc[[idx]]    # DataFrame (1×n_features)\n",
    "y_true = y_test.iloc[idx]\n",
    "\n",
    "proba = lr.predict_proba(x_row)[:,1][0]\n",
    "pred  = int(proba >= opt_threshold)\n",
    "\n",
    "print(\"True label:            \", y_true)\n",
    "print(f\"Predicted probability: {proba:.3f}\")\n",
    "print(f\"Predicted class (thr={opt_threshold:.3f}):\", pred)\n"
   ]
  },
  {
   "cell_type": "code",
   "execution_count": 5,
   "id": "be831c94",
   "metadata": {},
   "outputs": [
    {
     "name": "stderr",
     "output_type": "stream",
     "text": [
      "c:\\Users\\lotte\\AppData\\Local\\Programs\\Python\\Python312\\Lib\\site-packages\\tqdm\\auto.py:21: TqdmWarning: IProgress not found. Please update jupyter and ipywidgets. See https://ipywidgets.readthedocs.io/en/stable/user_install.html\n",
      "  from .autonotebook import tqdm as notebook_tqdm\n"
     ]
    },
    {
     "name": "stdout",
     "output_type": "stream",
     "text": [
      "Top 10 feature contributions for this prediction:\n",
      "\n",
      " Feature  Contribution  Abs Contribution\n",
      "    cp_2     -0.490639          0.490639\n",
      "    cp_4     -0.288981          0.288981\n",
      " oldpeak      0.211637          0.211637\n",
      "     age      0.173509          0.173509\n",
      "   exang     -0.149558          0.149558\n",
      "     sex      0.139728          0.139728\n",
      " thalach     -0.062734          0.062734\n",
      "    chol      0.051339          0.051339\n",
      "     fbs     -0.030335          0.030335\n",
      "trestbps      0.019350          0.019350\n"
     ]
    },
    {
     "name": "stderr",
     "output_type": "stream",
     "text": [
      "c:\\Users\\lotte\\AppData\\Local\\Programs\\Python\\Python312\\Lib\\site-packages\\shap\\explainers\\_linear.py:99: FutureWarning: The feature_perturbation option is now deprecated in favor of using the appropriate masker (maskers.Independent, maskers.Partition or maskers.Impute).\n",
      "  warnings.warn(wmsg, FutureWarning)\n"
     ]
    }
   ],
   "source": [
    "lr = joblib.load('nfinal_logreg_model.pkl')\n",
    "X_train = pd.read_pickle('X_ontrain_scaled.pkl')\n",
    "X_test  = pd.read_pickle('X_ontest_scaled.pkl')\n",
    "\n",
    "idx = 0\n",
    "x_row = X_test.iloc[[idx]]  # DataFrame shape (1, n_features)\n",
    "\n",
    "explainer = shap.LinearExplainer(lr, X_train, feature_perturbation=\"interventional\")\n",
    "shap_vals = explainer.shap_values(x_row)  # array shape (1, n_features)\n",
    "\n",
    "features = X_train.columns\n",
    "contrib = shap_vals[0]  # bijdragen voor die ene rij\n",
    "df_contrib = pd.DataFrame({\n",
    "    'Feature': features,\n",
    "    'Contribution': contrib,\n",
    "    'Abs Contribution': np.abs(contrib)\n",
    "})\n",
    "\n",
    "df_top = df_contrib.sort_values('Abs Contribution', ascending=False).head(10).reset_index(drop=True)\n",
    "print(\"Top 10 feature contributions for this prediction:\\n\")\n",
    "print(df_top.to_string(index=False))\n"
   ]
  }
 ],
 "metadata": {
  "kernelspec": {
   "display_name": "Python 3",
   "language": "python",
   "name": "python3"
  },
  "language_info": {
   "codemirror_mode": {
    "name": "ipython",
    "version": 3
   },
   "file_extension": ".py",
   "mimetype": "text/x-python",
   "name": "python",
   "nbconvert_exporter": "python",
   "pygments_lexer": "ipython3",
   "version": "3.12.4"
  }
 },
 "nbformat": 4,
 "nbformat_minor": 5
}
